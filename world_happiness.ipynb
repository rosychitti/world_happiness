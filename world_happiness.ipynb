{
 "cells": [
  {
   "cell_type": "markdown",
   "id": "ed6a95a6",
   "metadata": {},
   "source": [
    "#      WORLD_HAPPINESS LIST"
   ]
  },
  {
   "cell_type": "code",
   "execution_count": 125,
   "id": "88ed3e3a",
   "metadata": {},
   "outputs": [
    {
     "data": {
      "text/html": [
       "<style>.container{width:100% !important;}</style>"
      ],
      "text/plain": [
       "<IPython.core.display.HTML object>"
      ]
     },
     "metadata": {},
     "output_type": "display_data"
    }
   ],
   "source": [
    "from IPython.display import display,HTML\n",
    "display(HTML(\"<style>.container{width:100% !important;}</style>\"))"
   ]
  },
  {
   "cell_type": "code",
   "execution_count": 126,
   "id": "820b5539",
   "metadata": {},
   "outputs": [],
   "source": [
    "import pandas as pd\n",
    "import numpy as np"
   ]
  },
  {
   "cell_type": "code",
   "execution_count": 127,
   "id": "56a905aa",
   "metadata": {},
   "outputs": [],
   "source": [
    "df = pd.read_csv('https://raw.githubusercontent.com/dsrscientist/DSData/master/happiness_score_dataset.csv')"
   ]
  },
  {
   "cell_type": "code",
   "execution_count": 128,
   "id": "23dff391",
   "metadata": {},
   "outputs": [
    {
     "data": {
      "text/html": [
       "<div>\n",
       "<style scoped>\n",
       "    .dataframe tbody tr th:only-of-type {\n",
       "        vertical-align: middle;\n",
       "    }\n",
       "\n",
       "    .dataframe tbody tr th {\n",
       "        vertical-align: top;\n",
       "    }\n",
       "\n",
       "    .dataframe thead th {\n",
       "        text-align: right;\n",
       "    }\n",
       "</style>\n",
       "<table border=\"1\" class=\"dataframe\">\n",
       "  <thead>\n",
       "    <tr style=\"text-align: right;\">\n",
       "      <th></th>\n",
       "      <th>Country</th>\n",
       "      <th>Region</th>\n",
       "      <th>Happiness Rank</th>\n",
       "      <th>Happiness Score</th>\n",
       "      <th>Standard Error</th>\n",
       "      <th>Economy (GDP per Capita)</th>\n",
       "      <th>Family</th>\n",
       "      <th>Health (Life Expectancy)</th>\n",
       "      <th>Freedom</th>\n",
       "      <th>Trust (Government Corruption)</th>\n",
       "      <th>Generosity</th>\n",
       "      <th>Dystopia Residual</th>\n",
       "    </tr>\n",
       "  </thead>\n",
       "  <tbody>\n",
       "    <tr>\n",
       "      <th>0</th>\n",
       "      <td>Switzerland</td>\n",
       "      <td>Western Europe</td>\n",
       "      <td>1</td>\n",
       "      <td>7.587</td>\n",
       "      <td>0.03411</td>\n",
       "      <td>1.39651</td>\n",
       "      <td>1.34951</td>\n",
       "      <td>0.94143</td>\n",
       "      <td>0.66557</td>\n",
       "      <td>0.41978</td>\n",
       "      <td>0.29678</td>\n",
       "      <td>2.51738</td>\n",
       "    </tr>\n",
       "    <tr>\n",
       "      <th>1</th>\n",
       "      <td>Iceland</td>\n",
       "      <td>Western Europe</td>\n",
       "      <td>2</td>\n",
       "      <td>7.561</td>\n",
       "      <td>0.04884</td>\n",
       "      <td>1.30232</td>\n",
       "      <td>1.40223</td>\n",
       "      <td>0.94784</td>\n",
       "      <td>0.62877</td>\n",
       "      <td>0.14145</td>\n",
       "      <td>0.43630</td>\n",
       "      <td>2.70201</td>\n",
       "    </tr>\n",
       "    <tr>\n",
       "      <th>2</th>\n",
       "      <td>Denmark</td>\n",
       "      <td>Western Europe</td>\n",
       "      <td>3</td>\n",
       "      <td>7.527</td>\n",
       "      <td>0.03328</td>\n",
       "      <td>1.32548</td>\n",
       "      <td>1.36058</td>\n",
       "      <td>0.87464</td>\n",
       "      <td>0.64938</td>\n",
       "      <td>0.48357</td>\n",
       "      <td>0.34139</td>\n",
       "      <td>2.49204</td>\n",
       "    </tr>\n",
       "    <tr>\n",
       "      <th>3</th>\n",
       "      <td>Norway</td>\n",
       "      <td>Western Europe</td>\n",
       "      <td>4</td>\n",
       "      <td>7.522</td>\n",
       "      <td>0.03880</td>\n",
       "      <td>1.45900</td>\n",
       "      <td>1.33095</td>\n",
       "      <td>0.88521</td>\n",
       "      <td>0.66973</td>\n",
       "      <td>0.36503</td>\n",
       "      <td>0.34699</td>\n",
       "      <td>2.46531</td>\n",
       "    </tr>\n",
       "    <tr>\n",
       "      <th>4</th>\n",
       "      <td>Canada</td>\n",
       "      <td>North America</td>\n",
       "      <td>5</td>\n",
       "      <td>7.427</td>\n",
       "      <td>0.03553</td>\n",
       "      <td>1.32629</td>\n",
       "      <td>1.32261</td>\n",
       "      <td>0.90563</td>\n",
       "      <td>0.63297</td>\n",
       "      <td>0.32957</td>\n",
       "      <td>0.45811</td>\n",
       "      <td>2.45176</td>\n",
       "    </tr>\n",
       "    <tr>\n",
       "      <th>...</th>\n",
       "      <td>...</td>\n",
       "      <td>...</td>\n",
       "      <td>...</td>\n",
       "      <td>...</td>\n",
       "      <td>...</td>\n",
       "      <td>...</td>\n",
       "      <td>...</td>\n",
       "      <td>...</td>\n",
       "      <td>...</td>\n",
       "      <td>...</td>\n",
       "      <td>...</td>\n",
       "      <td>...</td>\n",
       "    </tr>\n",
       "    <tr>\n",
       "      <th>153</th>\n",
       "      <td>Rwanda</td>\n",
       "      <td>Sub-Saharan Africa</td>\n",
       "      <td>154</td>\n",
       "      <td>3.465</td>\n",
       "      <td>0.03464</td>\n",
       "      <td>0.22208</td>\n",
       "      <td>0.77370</td>\n",
       "      <td>0.42864</td>\n",
       "      <td>0.59201</td>\n",
       "      <td>0.55191</td>\n",
       "      <td>0.22628</td>\n",
       "      <td>0.67042</td>\n",
       "    </tr>\n",
       "    <tr>\n",
       "      <th>154</th>\n",
       "      <td>Benin</td>\n",
       "      <td>Sub-Saharan Africa</td>\n",
       "      <td>155</td>\n",
       "      <td>3.340</td>\n",
       "      <td>0.03656</td>\n",
       "      <td>0.28665</td>\n",
       "      <td>0.35386</td>\n",
       "      <td>0.31910</td>\n",
       "      <td>0.48450</td>\n",
       "      <td>0.08010</td>\n",
       "      <td>0.18260</td>\n",
       "      <td>1.63328</td>\n",
       "    </tr>\n",
       "    <tr>\n",
       "      <th>155</th>\n",
       "      <td>Syria</td>\n",
       "      <td>Middle East and Northern Africa</td>\n",
       "      <td>156</td>\n",
       "      <td>3.006</td>\n",
       "      <td>0.05015</td>\n",
       "      <td>0.66320</td>\n",
       "      <td>0.47489</td>\n",
       "      <td>0.72193</td>\n",
       "      <td>0.15684</td>\n",
       "      <td>0.18906</td>\n",
       "      <td>0.47179</td>\n",
       "      <td>0.32858</td>\n",
       "    </tr>\n",
       "    <tr>\n",
       "      <th>156</th>\n",
       "      <td>Burundi</td>\n",
       "      <td>Sub-Saharan Africa</td>\n",
       "      <td>157</td>\n",
       "      <td>2.905</td>\n",
       "      <td>0.08658</td>\n",
       "      <td>0.01530</td>\n",
       "      <td>0.41587</td>\n",
       "      <td>0.22396</td>\n",
       "      <td>0.11850</td>\n",
       "      <td>0.10062</td>\n",
       "      <td>0.19727</td>\n",
       "      <td>1.83302</td>\n",
       "    </tr>\n",
       "    <tr>\n",
       "      <th>157</th>\n",
       "      <td>Togo</td>\n",
       "      <td>Sub-Saharan Africa</td>\n",
       "      <td>158</td>\n",
       "      <td>2.839</td>\n",
       "      <td>0.06727</td>\n",
       "      <td>0.20868</td>\n",
       "      <td>0.13995</td>\n",
       "      <td>0.28443</td>\n",
       "      <td>0.36453</td>\n",
       "      <td>0.10731</td>\n",
       "      <td>0.16681</td>\n",
       "      <td>1.56726</td>\n",
       "    </tr>\n",
       "  </tbody>\n",
       "</table>\n",
       "<p>158 rows × 12 columns</p>\n",
       "</div>"
      ],
      "text/plain": [
       "         Country                           Region  Happiness Rank  \\\n",
       "0    Switzerland                   Western Europe               1   \n",
       "1        Iceland                   Western Europe               2   \n",
       "2        Denmark                   Western Europe               3   \n",
       "3         Norway                   Western Europe               4   \n",
       "4         Canada                    North America               5   \n",
       "..           ...                              ...             ...   \n",
       "153       Rwanda               Sub-Saharan Africa             154   \n",
       "154        Benin               Sub-Saharan Africa             155   \n",
       "155        Syria  Middle East and Northern Africa             156   \n",
       "156      Burundi               Sub-Saharan Africa             157   \n",
       "157         Togo               Sub-Saharan Africa             158   \n",
       "\n",
       "     Happiness Score  Standard Error  Economy (GDP per Capita)   Family  \\\n",
       "0              7.587         0.03411                   1.39651  1.34951   \n",
       "1              7.561         0.04884                   1.30232  1.40223   \n",
       "2              7.527         0.03328                   1.32548  1.36058   \n",
       "3              7.522         0.03880                   1.45900  1.33095   \n",
       "4              7.427         0.03553                   1.32629  1.32261   \n",
       "..               ...             ...                       ...      ...   \n",
       "153            3.465         0.03464                   0.22208  0.77370   \n",
       "154            3.340         0.03656                   0.28665  0.35386   \n",
       "155            3.006         0.05015                   0.66320  0.47489   \n",
       "156            2.905         0.08658                   0.01530  0.41587   \n",
       "157            2.839         0.06727                   0.20868  0.13995   \n",
       "\n",
       "     Health (Life Expectancy)  Freedom  Trust (Government Corruption)  \\\n",
       "0                     0.94143  0.66557                        0.41978   \n",
       "1                     0.94784  0.62877                        0.14145   \n",
       "2                     0.87464  0.64938                        0.48357   \n",
       "3                     0.88521  0.66973                        0.36503   \n",
       "4                     0.90563  0.63297                        0.32957   \n",
       "..                        ...      ...                            ...   \n",
       "153                   0.42864  0.59201                        0.55191   \n",
       "154                   0.31910  0.48450                        0.08010   \n",
       "155                   0.72193  0.15684                        0.18906   \n",
       "156                   0.22396  0.11850                        0.10062   \n",
       "157                   0.28443  0.36453                        0.10731   \n",
       "\n",
       "     Generosity  Dystopia Residual  \n",
       "0       0.29678            2.51738  \n",
       "1       0.43630            2.70201  \n",
       "2       0.34139            2.49204  \n",
       "3       0.34699            2.46531  \n",
       "4       0.45811            2.45176  \n",
       "..          ...                ...  \n",
       "153     0.22628            0.67042  \n",
       "154     0.18260            1.63328  \n",
       "155     0.47179            0.32858  \n",
       "156     0.19727            1.83302  \n",
       "157     0.16681            1.56726  \n",
       "\n",
       "[158 rows x 12 columns]"
      ]
     },
     "execution_count": 128,
     "metadata": {},
     "output_type": "execute_result"
    }
   ],
   "source": [
    "df"
   ]
  },
  {
   "cell_type": "code",
   "execution_count": 129,
   "id": "0da7cadf",
   "metadata": {},
   "outputs": [
    {
     "data": {
      "text/plain": [
       "pandas.core.frame.DataFrame"
      ]
     },
     "execution_count": 129,
     "metadata": {},
     "output_type": "execute_result"
    }
   ],
   "source": [
    "type(df)"
   ]
  },
  {
   "cell_type": "code",
   "execution_count": 130,
   "id": "7483fd31",
   "metadata": {},
   "outputs": [
    {
     "data": {
      "text/html": [
       "<div>\n",
       "<style scoped>\n",
       "    .dataframe tbody tr th:only-of-type {\n",
       "        vertical-align: middle;\n",
       "    }\n",
       "\n",
       "    .dataframe tbody tr th {\n",
       "        vertical-align: top;\n",
       "    }\n",
       "\n",
       "    .dataframe thead th {\n",
       "        text-align: right;\n",
       "    }\n",
       "</style>\n",
       "<table border=\"1\" class=\"dataframe\">\n",
       "  <thead>\n",
       "    <tr style=\"text-align: right;\">\n",
       "      <th></th>\n",
       "      <th>Country</th>\n",
       "      <th>Region</th>\n",
       "      <th>Happiness Rank</th>\n",
       "      <th>Happiness Score</th>\n",
       "      <th>Standard Error</th>\n",
       "      <th>Economy (GDP per Capita)</th>\n",
       "      <th>Family</th>\n",
       "      <th>Health (Life Expectancy)</th>\n",
       "      <th>Freedom</th>\n",
       "      <th>Trust (Government Corruption)</th>\n",
       "      <th>Generosity</th>\n",
       "      <th>Dystopia Residual</th>\n",
       "    </tr>\n",
       "  </thead>\n",
       "  <tbody>\n",
       "    <tr>\n",
       "      <th>0</th>\n",
       "      <td>Switzerland</td>\n",
       "      <td>Western Europe</td>\n",
       "      <td>1</td>\n",
       "      <td>7.587</td>\n",
       "      <td>0.03411</td>\n",
       "      <td>1.39651</td>\n",
       "      <td>1.34951</td>\n",
       "      <td>0.94143</td>\n",
       "      <td>0.66557</td>\n",
       "      <td>0.41978</td>\n",
       "      <td>0.29678</td>\n",
       "      <td>2.51738</td>\n",
       "    </tr>\n",
       "    <tr>\n",
       "      <th>1</th>\n",
       "      <td>Iceland</td>\n",
       "      <td>Western Europe</td>\n",
       "      <td>2</td>\n",
       "      <td>7.561</td>\n",
       "      <td>0.04884</td>\n",
       "      <td>1.30232</td>\n",
       "      <td>1.40223</td>\n",
       "      <td>0.94784</td>\n",
       "      <td>0.62877</td>\n",
       "      <td>0.14145</td>\n",
       "      <td>0.43630</td>\n",
       "      <td>2.70201</td>\n",
       "    </tr>\n",
       "    <tr>\n",
       "      <th>2</th>\n",
       "      <td>Denmark</td>\n",
       "      <td>Western Europe</td>\n",
       "      <td>3</td>\n",
       "      <td>7.527</td>\n",
       "      <td>0.03328</td>\n",
       "      <td>1.32548</td>\n",
       "      <td>1.36058</td>\n",
       "      <td>0.87464</td>\n",
       "      <td>0.64938</td>\n",
       "      <td>0.48357</td>\n",
       "      <td>0.34139</td>\n",
       "      <td>2.49204</td>\n",
       "    </tr>\n",
       "    <tr>\n",
       "      <th>3</th>\n",
       "      <td>Norway</td>\n",
       "      <td>Western Europe</td>\n",
       "      <td>4</td>\n",
       "      <td>7.522</td>\n",
       "      <td>0.03880</td>\n",
       "      <td>1.45900</td>\n",
       "      <td>1.33095</td>\n",
       "      <td>0.88521</td>\n",
       "      <td>0.66973</td>\n",
       "      <td>0.36503</td>\n",
       "      <td>0.34699</td>\n",
       "      <td>2.46531</td>\n",
       "    </tr>\n",
       "    <tr>\n",
       "      <th>4</th>\n",
       "      <td>Canada</td>\n",
       "      <td>North America</td>\n",
       "      <td>5</td>\n",
       "      <td>7.427</td>\n",
       "      <td>0.03553</td>\n",
       "      <td>1.32629</td>\n",
       "      <td>1.32261</td>\n",
       "      <td>0.90563</td>\n",
       "      <td>0.63297</td>\n",
       "      <td>0.32957</td>\n",
       "      <td>0.45811</td>\n",
       "      <td>2.45176</td>\n",
       "    </tr>\n",
       "    <tr>\n",
       "      <th>...</th>\n",
       "      <td>...</td>\n",
       "      <td>...</td>\n",
       "      <td>...</td>\n",
       "      <td>...</td>\n",
       "      <td>...</td>\n",
       "      <td>...</td>\n",
       "      <td>...</td>\n",
       "      <td>...</td>\n",
       "      <td>...</td>\n",
       "      <td>...</td>\n",
       "      <td>...</td>\n",
       "      <td>...</td>\n",
       "    </tr>\n",
       "    <tr>\n",
       "      <th>153</th>\n",
       "      <td>Rwanda</td>\n",
       "      <td>Sub-Saharan Africa</td>\n",
       "      <td>154</td>\n",
       "      <td>3.465</td>\n",
       "      <td>0.03464</td>\n",
       "      <td>0.22208</td>\n",
       "      <td>0.77370</td>\n",
       "      <td>0.42864</td>\n",
       "      <td>0.59201</td>\n",
       "      <td>0.55191</td>\n",
       "      <td>0.22628</td>\n",
       "      <td>0.67042</td>\n",
       "    </tr>\n",
       "    <tr>\n",
       "      <th>154</th>\n",
       "      <td>Benin</td>\n",
       "      <td>Sub-Saharan Africa</td>\n",
       "      <td>155</td>\n",
       "      <td>3.340</td>\n",
       "      <td>0.03656</td>\n",
       "      <td>0.28665</td>\n",
       "      <td>0.35386</td>\n",
       "      <td>0.31910</td>\n",
       "      <td>0.48450</td>\n",
       "      <td>0.08010</td>\n",
       "      <td>0.18260</td>\n",
       "      <td>1.63328</td>\n",
       "    </tr>\n",
       "    <tr>\n",
       "      <th>155</th>\n",
       "      <td>Syria</td>\n",
       "      <td>Middle East and Northern Africa</td>\n",
       "      <td>156</td>\n",
       "      <td>3.006</td>\n",
       "      <td>0.05015</td>\n",
       "      <td>0.66320</td>\n",
       "      <td>0.47489</td>\n",
       "      <td>0.72193</td>\n",
       "      <td>0.15684</td>\n",
       "      <td>0.18906</td>\n",
       "      <td>0.47179</td>\n",
       "      <td>0.32858</td>\n",
       "    </tr>\n",
       "    <tr>\n",
       "      <th>156</th>\n",
       "      <td>Burundi</td>\n",
       "      <td>Sub-Saharan Africa</td>\n",
       "      <td>157</td>\n",
       "      <td>2.905</td>\n",
       "      <td>0.08658</td>\n",
       "      <td>0.01530</td>\n",
       "      <td>0.41587</td>\n",
       "      <td>0.22396</td>\n",
       "      <td>0.11850</td>\n",
       "      <td>0.10062</td>\n",
       "      <td>0.19727</td>\n",
       "      <td>1.83302</td>\n",
       "    </tr>\n",
       "    <tr>\n",
       "      <th>157</th>\n",
       "      <td>Togo</td>\n",
       "      <td>Sub-Saharan Africa</td>\n",
       "      <td>158</td>\n",
       "      <td>2.839</td>\n",
       "      <td>0.06727</td>\n",
       "      <td>0.20868</td>\n",
       "      <td>0.13995</td>\n",
       "      <td>0.28443</td>\n",
       "      <td>0.36453</td>\n",
       "      <td>0.10731</td>\n",
       "      <td>0.16681</td>\n",
       "      <td>1.56726</td>\n",
       "    </tr>\n",
       "  </tbody>\n",
       "</table>\n",
       "<p>158 rows × 12 columns</p>\n",
       "</div>"
      ],
      "text/plain": [
       "         Country                           Region  Happiness Rank  \\\n",
       "0    Switzerland                   Western Europe               1   \n",
       "1        Iceland                   Western Europe               2   \n",
       "2        Denmark                   Western Europe               3   \n",
       "3         Norway                   Western Europe               4   \n",
       "4         Canada                    North America               5   \n",
       "..           ...                              ...             ...   \n",
       "153       Rwanda               Sub-Saharan Africa             154   \n",
       "154        Benin               Sub-Saharan Africa             155   \n",
       "155        Syria  Middle East and Northern Africa             156   \n",
       "156      Burundi               Sub-Saharan Africa             157   \n",
       "157         Togo               Sub-Saharan Africa             158   \n",
       "\n",
       "     Happiness Score  Standard Error  Economy (GDP per Capita)   Family  \\\n",
       "0              7.587         0.03411                   1.39651  1.34951   \n",
       "1              7.561         0.04884                   1.30232  1.40223   \n",
       "2              7.527         0.03328                   1.32548  1.36058   \n",
       "3              7.522         0.03880                   1.45900  1.33095   \n",
       "4              7.427         0.03553                   1.32629  1.32261   \n",
       "..               ...             ...                       ...      ...   \n",
       "153            3.465         0.03464                   0.22208  0.77370   \n",
       "154            3.340         0.03656                   0.28665  0.35386   \n",
       "155            3.006         0.05015                   0.66320  0.47489   \n",
       "156            2.905         0.08658                   0.01530  0.41587   \n",
       "157            2.839         0.06727                   0.20868  0.13995   \n",
       "\n",
       "     Health (Life Expectancy)  Freedom  Trust (Government Corruption)  \\\n",
       "0                     0.94143  0.66557                        0.41978   \n",
       "1                     0.94784  0.62877                        0.14145   \n",
       "2                     0.87464  0.64938                        0.48357   \n",
       "3                     0.88521  0.66973                        0.36503   \n",
       "4                     0.90563  0.63297                        0.32957   \n",
       "..                        ...      ...                            ...   \n",
       "153                   0.42864  0.59201                        0.55191   \n",
       "154                   0.31910  0.48450                        0.08010   \n",
       "155                   0.72193  0.15684                        0.18906   \n",
       "156                   0.22396  0.11850                        0.10062   \n",
       "157                   0.28443  0.36453                        0.10731   \n",
       "\n",
       "     Generosity  Dystopia Residual  \n",
       "0       0.29678            2.51738  \n",
       "1       0.43630            2.70201  \n",
       "2       0.34139            2.49204  \n",
       "3       0.34699            2.46531  \n",
       "4       0.45811            2.45176  \n",
       "..          ...                ...  \n",
       "153     0.22628            0.67042  \n",
       "154     0.18260            1.63328  \n",
       "155     0.47179            0.32858  \n",
       "156     0.19727            1.83302  \n",
       "157     0.16681            1.56726  \n",
       "\n",
       "[158 rows x 12 columns]"
      ]
     },
     "execution_count": 130,
     "metadata": {},
     "output_type": "execute_result"
    }
   ],
   "source": [
    "df"
   ]
  },
  {
   "cell_type": "code",
   "execution_count": 131,
   "id": "09ca6cc5",
   "metadata": {},
   "outputs": [
    {
     "data": {
      "text/plain": [
       "Index(['Country', 'Region', 'Happiness Rank', 'Happiness Score',\n",
       "       'Standard Error', 'Economy (GDP per Capita)', 'Family',\n",
       "       'Health (Life Expectancy)', 'Freedom', 'Trust (Government Corruption)',\n",
       "       'Generosity', 'Dystopia Residual'],\n",
       "      dtype='object')"
      ]
     },
     "execution_count": 131,
     "metadata": {},
     "output_type": "execute_result"
    }
   ],
   "source": [
    "df.columns"
   ]
  },
  {
   "cell_type": "code",
   "execution_count": 132,
   "id": "96943115",
   "metadata": {},
   "outputs": [
    {
     "data": {
      "text/plain": [
       "Country                          0\n",
       "Region                           0\n",
       "Happiness Rank                   0\n",
       "Happiness Score                  0\n",
       "Standard Error                   0\n",
       "Economy (GDP per Capita)         0\n",
       "Family                           0\n",
       "Health (Life Expectancy)         0\n",
       "Freedom                          0\n",
       "Trust (Government Corruption)    0\n",
       "Generosity                       0\n",
       "Dystopia Residual                0\n",
       "dtype: int64"
      ]
     },
     "execution_count": 132,
     "metadata": {},
     "output_type": "execute_result"
    }
   ],
   "source": [
    "df.isnull().sum()"
   ]
  },
  {
   "cell_type": "markdown",
   "id": "4076c9b0",
   "metadata": {},
   "source": [
    "  EDA"
   ]
  },
  {
   "cell_type": "markdown",
   "id": "b60380b1",
   "metadata": {},
   "source": [
    "   SCATTERPLOT:"
   ]
  },
  {
   "cell_type": "code",
   "execution_count": 133,
   "id": "f8ed5f09",
   "metadata": {},
   "outputs": [
    {
     "name": "stderr",
     "output_type": "stream",
     "text": [
      "WARNING: Ignoring invalid distribution - (c:\\programdata\\anaconda3\\lib\\site-packages)\n",
      "WARNING: Ignoring invalid distribution -eaborn (c:\\programdata\\anaconda3\\lib\\site-packages)\n",
      "WARNING: Ignoring invalid distribution - (c:\\programdata\\anaconda3\\lib\\site-packages)\n",
      "WARNING: Ignoring invalid distribution -eaborn (c:\\programdata\\anaconda3\\lib\\site-packages)\n",
      "WARNING: Ignoring invalid distribution - (c:\\programdata\\anaconda3\\lib\\site-packages)\n",
      "WARNING: Ignoring invalid distribution -eaborn (c:\\programdata\\anaconda3\\lib\\site-packages)\n",
      "WARNING: Ignoring invalid distribution - (c:\\programdata\\anaconda3\\lib\\site-packages)\n",
      "WARNING: Ignoring invalid distribution -eaborn (c:\\programdata\\anaconda3\\lib\\site-packages)\n",
      "WARNING: Ignoring invalid distribution - (c:\\programdata\\anaconda3\\lib\\site-packages)\n",
      "WARNING: Ignoring invalid distribution -eaborn (c:\\programdata\\anaconda3\\lib\\site-packages)\n",
      "WARNING: Ignoring invalid distribution - (c:\\programdata\\anaconda3\\lib\\site-packages)\n",
      "WARNING: Ignoring invalid distribution -eaborn (c:\\programdata\\anaconda3\\lib\\site-packages)\n"
     ]
    },
    {
     "name": "stdout",
     "output_type": "stream",
     "text": [
      "Requirement already satisfied: seaborn==0.11.2 in c:\\programdata\\anaconda3\\lib\\site-packages (0.11.2)\n",
      "Requirement already satisfied: matplotlib>=2.2 in c:\\programdata\\anaconda3\\lib\\site-packages (from seaborn==0.11.2) (3.4.3)\n",
      "Requirement already satisfied: numpy>=1.15 in c:\\programdata\\anaconda3\\lib\\site-packages (from seaborn==0.11.2) (1.20.3)\n",
      "Requirement already satisfied: pandas>=0.23 in c:\\programdata\\anaconda3\\lib\\site-packages (from seaborn==0.11.2) (1.3.4)\n",
      "Requirement already satisfied: scipy>=1.0 in c:\\programdata\\anaconda3\\lib\\site-packages (from seaborn==0.11.2) (1.6.2)\n",
      "Requirement already satisfied: python-dateutil>=2.7 in c:\\programdata\\anaconda3\\lib\\site-packages (from matplotlib>=2.2->seaborn==0.11.2) (2.8.2)\n",
      "Requirement already satisfied: cycler>=0.10 in c:\\programdata\\anaconda3\\lib\\site-packages (from matplotlib>=2.2->seaborn==0.11.2) (0.10.0)\n",
      "Requirement already satisfied: pyparsing>=2.2.1 in c:\\programdata\\anaconda3\\lib\\site-packages (from matplotlib>=2.2->seaborn==0.11.2) (3.0.4)\n",
      "Requirement already satisfied: kiwisolver>=1.0.1 in c:\\programdata\\anaconda3\\lib\\site-packages (from matplotlib>=2.2->seaborn==0.11.2) (1.3.1)\n",
      "Requirement already satisfied: pillow>=6.2.0 in c:\\programdata\\anaconda3\\lib\\site-packages (from matplotlib>=2.2->seaborn==0.11.2) (8.4.0)\n",
      "Requirement already satisfied: six in c:\\programdata\\anaconda3\\lib\\site-packages (from cycler>=0.10->matplotlib>=2.2->seaborn==0.11.2) (1.16.0)\n",
      "Requirement already satisfied: pytz>=2017.3 in c:\\programdata\\anaconda3\\lib\\site-packages (from pandas>=0.23->seaborn==0.11.2) (2021.3)\n"
     ]
    }
   ],
   "source": [
    "!pip install seaborn==0.11.2"
   ]
  },
  {
   "cell_type": "code",
   "execution_count": 134,
   "id": "a8db17fb",
   "metadata": {},
   "outputs": [
    {
     "data": {
      "text/plain": [
       "pandas.core.frame.DataFrame"
      ]
     },
     "execution_count": 134,
     "metadata": {},
     "output_type": "execute_result"
    }
   ],
   "source": [
    "x = ['Country']\n",
    "y = ['Dystopia Residual']\n",
    "type(df)"
   ]
  },
  {
   "cell_type": "code",
   "execution_count": 135,
   "id": "270c4fdd",
   "metadata": {},
   "outputs": [],
   "source": [
    "import seaborn as sns\n",
    "import warnings\n",
    "import matplotlib.pyplot as plt\n",
    "warnings.filterwarnings('ignore')\n"
   ]
  },
  {
   "cell_type": "code",
   "execution_count": 136,
   "id": "e671110d",
   "metadata": {},
   "outputs": [
    {
     "data": {
      "text/plain": [
       "<AxesSubplot:xlabel='Country', ylabel='Dystopia Residual'>"
      ]
     },
     "execution_count": 136,
     "metadata": {},
     "output_type": "execute_result"
    },
    {
     "data": {
      "image/png": "[encoded data removed]",
      "text/plain": [
       "<Figure size 432x288 with 1 Axes>"
      ]
     },
     "metadata": {
      "needs_background": "light"
     },
     "output_type": "display_data"
    }
   ],
   "source": [
    "import seaborn as sns\n",
    "sns.scatterplot(x=\"Country\",y=\"Dystopia Residual\",data=df)"
   ]
  },
  {
   "cell_type": "code",
   "execution_count": 137,
   "id": "211ebcf0",
   "metadata": {},
   "outputs": [
    {
     "data": {
      "text/plain": [
       "<AxesSubplot:xlabel='Region', ylabel='Dystopia Residual'>"
      ]
     },
     "execution_count": 137,
     "metadata": {},
     "output_type": "execute_result"
    },
    {
     "data": {
      "image/png": "[encoded data removed]",
      "text/plain": [
       "<Figure size 432x288 with 1 Axes>"
      ]
     },
     "metadata": {
      "needs_background": "light"
     },
     "output_type": "display_data"
    }
   ],
   "source": [
    "sns.scatterplot(x=\"Region\",y=\"Dystopia Residual\",data=df)"
   ]
  },
  {
   "cell_type": "code",
   "execution_count": 138,
   "id": "842d96d6",
   "metadata": {},
   "outputs": [
    {
     "data": {
      "text/plain": [
       "<AxesSubplot:xlabel='Happiness Score', ylabel='Dystopia Residual'>"
      ]
     },
     "execution_count": 138,
     "metadata": {},
     "output_type": "execute_result"
    },
    {
     "data": {
      "image/png": "[encoded data removed]",
      "text/plain": [
       "<Figure size 432x288 with 1 Axes>"
      ]
     },
     "metadata": {
      "needs_background": "light"
     },
     "output_type": "display_data"
    }
   ],
   "source": [
    "sns.scatterplot(x=\"Happiness Score\",y=\"Dystopia Residual\",data=df)"
   ]
  },
  {
   "cell_type": "code",
   "execution_count": 139,
   "id": "c08be0c2",
   "metadata": {},
   "outputs": [
    {
     "data": {
      "text/plain": [
       "<AxesSubplot:xlabel='Standard Error', ylabel='Dystopia Residual'>"
      ]
     },
     "execution_count": 139,
     "metadata": {},
     "output_type": "execute_result"
    },
    {
     "data": {
      "image/png": "[encoded data removed]",
      "text/plain": [
       "<Figure size 432x288 with 1 Axes>"
      ]
     },
     "metadata": {
      "needs_background": "light"
     },
     "output_type": "display_data"
    }
   ],
   "source": [
    "sns.scatterplot(x=\"Standard Error\",y=\"Dystopia Residual\",data=df)"
   ]
  },
  {
   "cell_type": "code",
   "execution_count": 140,
   "id": "8ce76bae",
   "metadata": {},
   "outputs": [
    {
     "data": {
      "text/plain": [
       "<AxesSubplot:xlabel='Family', ylabel='Dystopia Residual'>"
      ]
     },
     "execution_count": 140,
     "metadata": {},
     "output_type": "execute_result"
    },
    {
     "data": {
      "image/png": "[encoded data removed]",
      "text/plain": [
       "<Figure size 432x288 with 1 Axes>"
      ]
     },
     "metadata": {
      "needs_background": "light"
     },
     "output_type": "display_data"
    }
   ],
   "source": [
    "sns.scatterplot(x=\"Family\",y=\"Dystopia Residual\",data=df)"
   ]
  },
  {
   "cell_type": "code",
   "execution_count": 141,
   "id": "9f6db4db",
   "metadata": {},
   "outputs": [
    {
     "data": {
      "text/plain": [
       "<AxesSubplot:xlabel='Freedom', ylabel='Dystopia Residual'>"
      ]
     },
     "execution_count": 141,
     "metadata": {},
     "output_type": "execute_result"
    },
    {
     "data": {
      "image/png": "[encoded data removed]",
      "text/plain": [
       "<Figure size 432x288 with 1 Axes>"
      ]
     },
     "metadata": {
      "needs_background": "light"
     },
     "output_type": "display_data"
    }
   ],
   "source": [
    "sns.scatterplot(x=\"Freedom\",y=\"Dystopia Residual\",data=df)"
   ]
  },
  {
   "cell_type": "code",
   "execution_count": 142,
   "id": "75ae19a6",
   "metadata": {},
   "outputs": [
    {
     "data": {
      "text/plain": [
       "<AxesSubplot:xlabel='Generosity', ylabel='Dystopia Residual'>"
      ]
     },
     "execution_count": 142,
     "metadata": {},
     "output_type": "execute_result"
    },
    {
     "data": {
      "image/png": "[encoded data removed]",
      "text/plain": [
       "<Figure size 432x288 with 1 Axes>"
      ]
     },
     "metadata": {
      "needs_background": "light"
     },
     "output_type": "display_data"
    }
   ],
   "source": [
    "sns.scatterplot(x=\"Generosity\",y=\"Dystopia Residual\",data=df)"
   ]
  },
  {
   "cell_type": "markdown",
   "id": "5b05b6d3",
   "metadata": {},
   "source": [
    "Correlation"
   ]
  },
  {
   "cell_type": "code",
   "execution_count": 143,
   "id": "ce2ee694",
   "metadata": {},
   "outputs": [
    {
     "data": {
      "text/html": [
       "<div>\n",
       "<style scoped>\n",
       "    .dataframe tbody tr th:only-of-type {\n",
       "        vertical-align: middle;\n",
       "    }\n",
       "\n",
       "    .dataframe tbody tr th {\n",
       "        vertical-align: top;\n",
       "    }\n",
       "\n",
       "    .dataframe thead th {\n",
       "        text-align: right;\n",
       "    }\n",
       "</style>\n",
       "<table border=\"1\" class=\"dataframe\">\n",
       "  <thead>\n",
       "    <tr style=\"text-align: right;\">\n",
       "      <th></th>\n",
       "      <th>Happiness Rank</th>\n",
       "      <th>Happiness Score</th>\n",
       "      <th>Standard Error</th>\n",
       "      <th>Economy (GDP per Capita)</th>\n",
       "      <th>Family</th>\n",
       "      <th>Health (Life Expectancy)</th>\n",
       "      <th>Freedom</th>\n",
       "      <th>Trust (Government Corruption)</th>\n",
       "      <th>Generosity</th>\n",
       "      <th>Dystopia Residual</th>\n",
       "    </tr>\n",
       "  </thead>\n",
       "  <tbody>\n",
       "    <tr>\n",
       "      <th>Happiness Rank</th>\n",
       "      <td>1.000000</td>\n",
       "      <td>-0.992105</td>\n",
       "      <td>0.158516</td>\n",
       "      <td>-0.785267</td>\n",
       "      <td>-0.733644</td>\n",
       "      <td>-0.735613</td>\n",
       "      <td>-0.556886</td>\n",
       "      <td>-0.372315</td>\n",
       "      <td>-0.160142</td>\n",
       "      <td>-0.521999</td>\n",
       "    </tr>\n",
       "    <tr>\n",
       "      <th>Happiness Score</th>\n",
       "      <td>-0.992105</td>\n",
       "      <td>1.000000</td>\n",
       "      <td>-0.177254</td>\n",
       "      <td>0.780966</td>\n",
       "      <td>0.740605</td>\n",
       "      <td>0.724200</td>\n",
       "      <td>0.568211</td>\n",
       "      <td>0.395199</td>\n",
       "      <td>0.180319</td>\n",
       "      <td>0.530474</td>\n",
       "    </tr>\n",
       "    <tr>\n",
       "      <th>Standard Error</th>\n",
       "      <td>0.158516</td>\n",
       "      <td>-0.177254</td>\n",
       "      <td>1.000000</td>\n",
       "      <td>-0.217651</td>\n",
       "      <td>-0.120728</td>\n",
       "      <td>-0.310287</td>\n",
       "      <td>-0.129773</td>\n",
       "      <td>-0.178325</td>\n",
       "      <td>-0.088439</td>\n",
       "      <td>0.083981</td>\n",
       "    </tr>\n",
       "    <tr>\n",
       "      <th>Economy (GDP per Capita)</th>\n",
       "      <td>-0.785267</td>\n",
       "      <td>0.780966</td>\n",
       "      <td>-0.217651</td>\n",
       "      <td>1.000000</td>\n",
       "      <td>0.645299</td>\n",
       "      <td>0.816478</td>\n",
       "      <td>0.370300</td>\n",
       "      <td>0.307885</td>\n",
       "      <td>-0.010465</td>\n",
       "      <td>0.040059</td>\n",
       "    </tr>\n",
       "    <tr>\n",
       "      <th>Family</th>\n",
       "      <td>-0.733644</td>\n",
       "      <td>0.740605</td>\n",
       "      <td>-0.120728</td>\n",
       "      <td>0.645299</td>\n",
       "      <td>1.000000</td>\n",
       "      <td>0.531104</td>\n",
       "      <td>0.441518</td>\n",
       "      <td>0.205605</td>\n",
       "      <td>0.087513</td>\n",
       "      <td>0.148117</td>\n",
       "    </tr>\n",
       "    <tr>\n",
       "      <th>Health (Life Expectancy)</th>\n",
       "      <td>-0.735613</td>\n",
       "      <td>0.724200</td>\n",
       "      <td>-0.310287</td>\n",
       "      <td>0.816478</td>\n",
       "      <td>0.531104</td>\n",
       "      <td>1.000000</td>\n",
       "      <td>0.360477</td>\n",
       "      <td>0.248335</td>\n",
       "      <td>0.108335</td>\n",
       "      <td>0.018979</td>\n",
       "    </tr>\n",
       "    <tr>\n",
       "      <th>Freedom</th>\n",
       "      <td>-0.556886</td>\n",
       "      <td>0.568211</td>\n",
       "      <td>-0.129773</td>\n",
       "      <td>0.370300</td>\n",
       "      <td>0.441518</td>\n",
       "      <td>0.360477</td>\n",
       "      <td>1.000000</td>\n",
       "      <td>0.493524</td>\n",
       "      <td>0.373916</td>\n",
       "      <td>0.062783</td>\n",
       "    </tr>\n",
       "    <tr>\n",
       "      <th>Trust (Government Corruption)</th>\n",
       "      <td>-0.372315</td>\n",
       "      <td>0.395199</td>\n",
       "      <td>-0.178325</td>\n",
       "      <td>0.307885</td>\n",
       "      <td>0.205605</td>\n",
       "      <td>0.248335</td>\n",
       "      <td>0.493524</td>\n",
       "      <td>1.000000</td>\n",
       "      <td>0.276123</td>\n",
       "      <td>-0.033105</td>\n",
       "    </tr>\n",
       "    <tr>\n",
       "      <th>Generosity</th>\n",
       "      <td>-0.160142</td>\n",
       "      <td>0.180319</td>\n",
       "      <td>-0.088439</td>\n",
       "      <td>-0.010465</td>\n",
       "      <td>0.087513</td>\n",
       "      <td>0.108335</td>\n",
       "      <td>0.373916</td>\n",
       "      <td>0.276123</td>\n",
       "      <td>1.000000</td>\n",
       "      <td>-0.101301</td>\n",
       "    </tr>\n",
       "    <tr>\n",
       "      <th>Dystopia Residual</th>\n",
       "      <td>-0.521999</td>\n",
       "      <td>0.530474</td>\n",
       "      <td>0.083981</td>\n",
       "      <td>0.040059</td>\n",
       "      <td>0.148117</td>\n",
       "      <td>0.018979</td>\n",
       "      <td>0.062783</td>\n",
       "      <td>-0.033105</td>\n",
       "      <td>-0.101301</td>\n",
       "      <td>1.000000</td>\n",
       "    </tr>\n",
       "  </tbody>\n",
       "</table>\n",
       "</div>"
      ],
      "text/plain": [
       "                               Happiness Rank  Happiness Score  \\\n",
       "Happiness Rank                       1.000000        -0.992105   \n",
       "Happiness Score                     -0.992105         1.000000   \n",
       "Standard Error                       0.158516        -0.177254   \n",
       "Economy (GDP per Capita)            -0.785267         0.780966   \n",
       "Family                              -0.733644         0.740605   \n",
       "Health (Life Expectancy)            -0.735613         0.724200   \n",
       "Freedom                             -0.556886         0.568211   \n",
       "Trust (Government Corruption)       -0.372315         0.395199   \n",
       "Generosity                          -0.160142         0.180319   \n",
       "Dystopia Residual                   -0.521999         0.530474   \n",
       "\n",
       "                               Standard Error  Economy (GDP per Capita)  \\\n",
       "Happiness Rank                       0.158516                 -0.785267   \n",
       "Happiness Score                     -0.177254                  0.780966   \n",
       "Standard Error                       1.000000                 -0.217651   \n",
       "Economy (GDP per Capita)            -0.217651                  1.000000   \n",
       "Family                              -0.120728                  0.645299   \n",
       "Health (Life Expectancy)            -0.310287                  0.816478   \n",
       "Freedom                             -0.129773                  0.370300   \n",
       "Trust (Government Corruption)       -0.178325                  0.307885   \n",
       "Generosity                          -0.088439                 -0.010465   \n",
       "Dystopia Residual                    0.083981                  0.040059   \n",
       "\n",
       "                                 Family  Health (Life Expectancy)   Freedom  \\\n",
       "Happiness Rank                -0.733644                 -0.735613 -0.556886   \n",
       "Happiness Score                0.740605                  0.724200  0.568211   \n",
       "Standard Error                -0.120728                 -0.310287 -0.129773   \n",
       "Economy (GDP per Capita)       0.645299                  0.816478  0.370300   \n",
       "Family                         1.000000                  0.531104  0.441518   \n",
       "Health (Life Expectancy)       0.531104                  1.000000  0.360477   \n",
       "Freedom                        0.441518                  0.360477  1.000000   \n",
       "Trust (Government Corruption)  0.205605                  0.248335  0.493524   \n",
       "Generosity                     0.087513                  0.108335  0.373916   \n",
       "Dystopia Residual              0.148117                  0.018979  0.062783   \n",
       "\n",
       "                               Trust (Government Corruption)  Generosity  \\\n",
       "Happiness Rank                                     -0.372315   -0.160142   \n",
       "Happiness Score                                     0.395199    0.180319   \n",
       "Standard Error                                     -0.178325   -0.088439   \n",
       "Economy (GDP per Capita)                            0.307885   -0.010465   \n",
       "Family                                              0.205605    0.087513   \n",
       "Health (Life Expectancy)                            0.248335    0.108335   \n",
       "Freedom                                             0.493524    0.373916   \n",
       "Trust (Government Corruption)                       1.000000    0.276123   \n",
       "Generosity                                          0.276123    1.000000   \n",
       "Dystopia Residual                                  -0.033105   -0.101301   \n",
       "\n",
       "                               Dystopia Residual  \n",
       "Happiness Rank                         -0.521999  \n",
       "Happiness Score                         0.530474  \n",
       "Standard Error                          0.083981  \n",
       "Economy (GDP per Capita)                0.040059  \n",
       "Family                                  0.148117  \n",
       "Health (Life Expectancy)                0.018979  \n",
       "Freedom                                 0.062783  \n",
       "Trust (Government Corruption)          -0.033105  \n",
       "Generosity                             -0.101301  \n",
       "Dystopia Residual                       1.000000  "
      ]
     },
     "execution_count": 143,
     "metadata": {},
     "output_type": "execute_result"
    }
   ],
   "source": [
    "df.corr()"
   ]
  },
  {
   "cell_type": "code",
   "execution_count": 144,
   "id": "9f4a767c",
   "metadata": {},
   "outputs": [],
   "source": [
    "xlabel = df.corr()"
   ]
  },
  {
   "cell_type": "code",
   "execution_count": 145,
   "id": "833cd832",
   "metadata": {},
   "outputs": [],
   "source": [
    "ylabel = df.corr()"
   ]
  },
  {
   "cell_type": "code",
   "execution_count": 146,
   "id": "eb393718",
   "metadata": {},
   "outputs": [
    {
     "data": {
      "text/html": [
       "<div>\n",
       "<style scoped>\n",
       "    .dataframe tbody tr th:only-of-type {\n",
       "        vertical-align: middle;\n",
       "    }\n",
       "\n",
       "    .dataframe tbody tr th {\n",
       "        vertical-align: top;\n",
       "    }\n",
       "\n",
       "    .dataframe thead th {\n",
       "        text-align: right;\n",
       "    }\n",
       "</style>\n",
       "<table border=\"1\" class=\"dataframe\">\n",
       "  <thead>\n",
       "    <tr style=\"text-align: right;\">\n",
       "      <th></th>\n",
       "      <th>Happiness Rank</th>\n",
       "      <th>Happiness Score</th>\n",
       "      <th>Standard Error</th>\n",
       "      <th>Economy (GDP per Capita)</th>\n",
       "      <th>Family</th>\n",
       "      <th>Health (Life Expectancy)</th>\n",
       "      <th>Freedom</th>\n",
       "      <th>Trust (Government Corruption)</th>\n",
       "      <th>Generosity</th>\n",
       "      <th>Dystopia Residual</th>\n",
       "    </tr>\n",
       "  </thead>\n",
       "  <tbody>\n",
       "    <tr>\n",
       "      <th>Happiness Rank</th>\n",
       "      <td>1.000000</td>\n",
       "      <td>-0.992105</td>\n",
       "      <td>0.158516</td>\n",
       "      <td>-0.785267</td>\n",
       "      <td>-0.733644</td>\n",
       "      <td>-0.735613</td>\n",
       "      <td>-0.556886</td>\n",
       "      <td>-0.372315</td>\n",
       "      <td>-0.160142</td>\n",
       "      <td>-0.521999</td>\n",
       "    </tr>\n",
       "    <tr>\n",
       "      <th>Happiness Score</th>\n",
       "      <td>-0.992105</td>\n",
       "      <td>1.000000</td>\n",
       "      <td>-0.177254</td>\n",
       "      <td>0.780966</td>\n",
       "      <td>0.740605</td>\n",
       "      <td>0.724200</td>\n",
       "      <td>0.568211</td>\n",
       "      <td>0.395199</td>\n",
       "      <td>0.180319</td>\n",
       "      <td>0.530474</td>\n",
       "    </tr>\n",
       "    <tr>\n",
       "      <th>Standard Error</th>\n",
       "      <td>0.158516</td>\n",
       "      <td>-0.177254</td>\n",
       "      <td>1.000000</td>\n",
       "      <td>-0.217651</td>\n",
       "      <td>-0.120728</td>\n",
       "      <td>-0.310287</td>\n",
       "      <td>-0.129773</td>\n",
       "      <td>-0.178325</td>\n",
       "      <td>-0.088439</td>\n",
       "      <td>0.083981</td>\n",
       "    </tr>\n",
       "    <tr>\n",
       "      <th>Economy (GDP per Capita)</th>\n",
       "      <td>-0.785267</td>\n",
       "      <td>0.780966</td>\n",
       "      <td>-0.217651</td>\n",
       "      <td>1.000000</td>\n",
       "      <td>0.645299</td>\n",
       "      <td>0.816478</td>\n",
       "      <td>0.370300</td>\n",
       "      <td>0.307885</td>\n",
       "      <td>-0.010465</td>\n",
       "      <td>0.040059</td>\n",
       "    </tr>\n",
       "    <tr>\n",
       "      <th>Family</th>\n",
       "      <td>-0.733644</td>\n",
       "      <td>0.740605</td>\n",
       "      <td>-0.120728</td>\n",
       "      <td>0.645299</td>\n",
       "      <td>1.000000</td>\n",
       "      <td>0.531104</td>\n",
       "      <td>0.441518</td>\n",
       "      <td>0.205605</td>\n",
       "      <td>0.087513</td>\n",
       "      <td>0.148117</td>\n",
       "    </tr>\n",
       "    <tr>\n",
       "      <th>Health (Life Expectancy)</th>\n",
       "      <td>-0.735613</td>\n",
       "      <td>0.724200</td>\n",
       "      <td>-0.310287</td>\n",
       "      <td>0.816478</td>\n",
       "      <td>0.531104</td>\n",
       "      <td>1.000000</td>\n",
       "      <td>0.360477</td>\n",
       "      <td>0.248335</td>\n",
       "      <td>0.108335</td>\n",
       "      <td>0.018979</td>\n",
       "    </tr>\n",
       "    <tr>\n",
       "      <th>Freedom</th>\n",
       "      <td>-0.556886</td>\n",
       "      <td>0.568211</td>\n",
       "      <td>-0.129773</td>\n",
       "      <td>0.370300</td>\n",
       "      <td>0.441518</td>\n",
       "      <td>0.360477</td>\n",
       "      <td>1.000000</td>\n",
       "      <td>0.493524</td>\n",
       "      <td>0.373916</td>\n",
       "      <td>0.062783</td>\n",
       "    </tr>\n",
       "    <tr>\n",
       "      <th>Trust (Government Corruption)</th>\n",
       "      <td>-0.372315</td>\n",
       "      <td>0.395199</td>\n",
       "      <td>-0.178325</td>\n",
       "      <td>0.307885</td>\n",
       "      <td>0.205605</td>\n",
       "      <td>0.248335</td>\n",
       "      <td>0.493524</td>\n",
       "      <td>1.000000</td>\n",
       "      <td>0.276123</td>\n",
       "      <td>-0.033105</td>\n",
       "    </tr>\n",
       "    <tr>\n",
       "      <th>Generosity</th>\n",
       "      <td>-0.160142</td>\n",
       "      <td>0.180319</td>\n",
       "      <td>-0.088439</td>\n",
       "      <td>-0.010465</td>\n",
       "      <td>0.087513</td>\n",
       "      <td>0.108335</td>\n",
       "      <td>0.373916</td>\n",
       "      <td>0.276123</td>\n",
       "      <td>1.000000</td>\n",
       "      <td>-0.101301</td>\n",
       "    </tr>\n",
       "    <tr>\n",
       "      <th>Dystopia Residual</th>\n",
       "      <td>-0.521999</td>\n",
       "      <td>0.530474</td>\n",
       "      <td>0.083981</td>\n",
       "      <td>0.040059</td>\n",
       "      <td>0.148117</td>\n",
       "      <td>0.018979</td>\n",
       "      <td>0.062783</td>\n",
       "      <td>-0.033105</td>\n",
       "      <td>-0.101301</td>\n",
       "      <td>1.000000</td>\n",
       "    </tr>\n",
       "  </tbody>\n",
       "</table>\n",
       "</div>"
      ],
      "text/plain": [
       "                               Happiness Rank  Happiness Score  \\\n",
       "Happiness Rank                       1.000000        -0.992105   \n",
       "Happiness Score                     -0.992105         1.000000   \n",
       "Standard Error                       0.158516        -0.177254   \n",
       "Economy (GDP per Capita)            -0.785267         0.780966   \n",
       "Family                              -0.733644         0.740605   \n",
       "Health (Life Expectancy)            -0.735613         0.724200   \n",
       "Freedom                             -0.556886         0.568211   \n",
       "Trust (Government Corruption)       -0.372315         0.395199   \n",
       "Generosity                          -0.160142         0.180319   \n",
       "Dystopia Residual                   -0.521999         0.530474   \n",
       "\n",
       "                               Standard Error  Economy (GDP per Capita)  \\\n",
       "Happiness Rank                       0.158516                 -0.785267   \n",
       "Happiness Score                     -0.177254                  0.780966   \n",
       "Standard Error                       1.000000                 -0.217651   \n",
       "Economy (GDP per Capita)            -0.217651                  1.000000   \n",
       "Family                              -0.120728                  0.645299   \n",
       "Health (Life Expectancy)            -0.310287                  0.816478   \n",
       "Freedom                             -0.129773                  0.370300   \n",
       "Trust (Government Corruption)       -0.178325                  0.307885   \n",
       "Generosity                          -0.088439                 -0.010465   \n",
       "Dystopia Residual                    0.083981                  0.040059   \n",
       "\n",
       "                                 Family  Health (Life Expectancy)   Freedom  \\\n",
       "Happiness Rank                -0.733644                 -0.735613 -0.556886   \n",
       "Happiness Score                0.740605                  0.724200  0.568211   \n",
       "Standard Error                -0.120728                 -0.310287 -0.129773   \n",
       "Economy (GDP per Capita)       0.645299                  0.816478  0.370300   \n",
       "Family                         1.000000                  0.531104  0.441518   \n",
       "Health (Life Expectancy)       0.531104                  1.000000  0.360477   \n",
       "Freedom                        0.441518                  0.360477  1.000000   \n",
       "Trust (Government Corruption)  0.205605                  0.248335  0.493524   \n",
       "Generosity                     0.087513                  0.108335  0.373916   \n",
       "Dystopia Residual              0.148117                  0.018979  0.062783   \n",
       "\n",
       "                               Trust (Government Corruption)  Generosity  \\\n",
       "Happiness Rank                                     -0.372315   -0.160142   \n",
       "Happiness Score                                     0.395199    0.180319   \n",
       "Standard Error                                     -0.178325   -0.088439   \n",
       "Economy (GDP per Capita)                            0.307885   -0.010465   \n",
       "Family                                              0.205605    0.087513   \n",
       "Health (Life Expectancy)                            0.248335    0.108335   \n",
       "Freedom                                             0.493524    0.373916   \n",
       "Trust (Government Corruption)                       1.000000    0.276123   \n",
       "Generosity                                          0.276123    1.000000   \n",
       "Dystopia Residual                                  -0.033105   -0.101301   \n",
       "\n",
       "                               Dystopia Residual  \n",
       "Happiness Rank                         -0.521999  \n",
       "Happiness Score                         0.530474  \n",
       "Standard Error                          0.083981  \n",
       "Economy (GDP per Capita)                0.040059  \n",
       "Family                                  0.148117  \n",
       "Health (Life Expectancy)                0.018979  \n",
       "Freedom                                 0.062783  \n",
       "Trust (Government Corruption)          -0.033105  \n",
       "Generosity                             -0.101301  \n",
       "Dystopia Residual                       1.000000  "
      ]
     },
     "execution_count": 146,
     "metadata": {},
     "output_type": "execute_result"
    }
   ],
   "source": [
    " df.corr()"
   ]
  },
  {
   "cell_type": "code",
   "execution_count": 147,
   "id": "2546f5f3",
   "metadata": {},
   "outputs": [
    {
     "data": {
      "text/plain": [
       "Happiness Rank                  -0.521999\n",
       "Generosity                      -0.101301\n",
       "Trust (Government Corruption)   -0.033105\n",
       "Health (Life Expectancy)         0.018979\n",
       "Economy (GDP per Capita)         0.040059\n",
       "Freedom                          0.062783\n",
       "Standard Error                   0.083981\n",
       "Family                           0.148117\n",
       "Happiness Score                  0.530474\n",
       "Dystopia Residual                1.000000\n",
       "Name: Dystopia Residual, dtype: float64"
      ]
     },
     "execution_count": 147,
     "metadata": {},
     "output_type": "execute_result"
    }
   ],
   "source": [
    "df.corr()['Dystopia Residual'].sort_values()"
   ]
  },
  {
   "cell_type": "code",
   "execution_count": 148,
   "id": "8357565f",
   "metadata": {},
   "outputs": [
    {
     "data": {
      "text/plain": [
       "<AxesSubplot:>"
      ]
     },
     "execution_count": 148,
     "metadata": {},
     "output_type": "execute_result"
    },
    {
     "data": {
      "image/png": "[encoded data removed]",
      "text/plain": [
       "<Figure size 1440x576 with 2 Axes>"
      ]
     },
     "metadata": {
      "needs_background": "light"
     },
     "output_type": "display_data"
    }
   ],
   "source": [
    "import matplotlib.pyplot as plt\n",
    "#size of canvas\n",
    "plt.figure(figsize=(20,8))\n",
    "sns.heatmap(df.corr(),annot=True,linewidths=0.5,linecolor=\"black\",fmt='.2f')"
   ]
  },
  {
   "cell_type": "markdown",
   "id": "dc837a3e",
   "metadata": {},
   "source": [
    "Describing Datasets:"
   ]
  },
  {
   "cell_type": "code",
   "execution_count": 149,
   "id": "87de5536",
   "metadata": {},
   "outputs": [
    {
     "data": {
      "text/html": [
       "<div>\n",
       "<style scoped>\n",
       "    .dataframe tbody tr th:only-of-type {\n",
       "        vertical-align: middle;\n",
       "    }\n",
       "\n",
       "    .dataframe tbody tr th {\n",
       "        vertical-align: top;\n",
       "    }\n",
       "\n",
       "    .dataframe thead th {\n",
       "        text-align: right;\n",
       "    }\n",
       "</style>\n",
       "<table border=\"1\" class=\"dataframe\">\n",
       "  <thead>\n",
       "    <tr style=\"text-align: right;\">\n",
       "      <th></th>\n",
       "      <th>Happiness Rank</th>\n",
       "      <th>Happiness Score</th>\n",
       "      <th>Standard Error</th>\n",
       "      <th>Economy (GDP per Capita)</th>\n",
       "      <th>Family</th>\n",
       "      <th>Health (Life Expectancy)</th>\n",
       "      <th>Freedom</th>\n",
       "      <th>Trust (Government Corruption)</th>\n",
       "      <th>Generosity</th>\n",
       "      <th>Dystopia Residual</th>\n",
       "    </tr>\n",
       "  </thead>\n",
       "  <tbody>\n",
       "    <tr>\n",
       "      <th>count</th>\n",
       "      <td>158.000000</td>\n",
       "      <td>158.000000</td>\n",
       "      <td>158.000000</td>\n",
       "      <td>158.000000</td>\n",
       "      <td>158.000000</td>\n",
       "      <td>158.000000</td>\n",
       "      <td>158.000000</td>\n",
       "      <td>158.000000</td>\n",
       "      <td>158.000000</td>\n",
       "      <td>158.000000</td>\n",
       "    </tr>\n",
       "    <tr>\n",
       "      <th>mean</th>\n",
       "      <td>79.493671</td>\n",
       "      <td>5.375734</td>\n",
       "      <td>0.047885</td>\n",
       "      <td>0.846137</td>\n",
       "      <td>0.991046</td>\n",
       "      <td>0.630259</td>\n",
       "      <td>0.428615</td>\n",
       "      <td>0.143422</td>\n",
       "      <td>0.237296</td>\n",
       "      <td>2.098977</td>\n",
       "    </tr>\n",
       "    <tr>\n",
       "      <th>std</th>\n",
       "      <td>45.754363</td>\n",
       "      <td>1.145010</td>\n",
       "      <td>0.017146</td>\n",
       "      <td>0.403121</td>\n",
       "      <td>0.272369</td>\n",
       "      <td>0.247078</td>\n",
       "      <td>0.150693</td>\n",
       "      <td>0.120034</td>\n",
       "      <td>0.126685</td>\n",
       "      <td>0.553550</td>\n",
       "    </tr>\n",
       "    <tr>\n",
       "      <th>min</th>\n",
       "      <td>1.000000</td>\n",
       "      <td>2.839000</td>\n",
       "      <td>0.018480</td>\n",
       "      <td>0.000000</td>\n",
       "      <td>0.000000</td>\n",
       "      <td>0.000000</td>\n",
       "      <td>0.000000</td>\n",
       "      <td>0.000000</td>\n",
       "      <td>0.000000</td>\n",
       "      <td>0.328580</td>\n",
       "    </tr>\n",
       "    <tr>\n",
       "      <th>25%</th>\n",
       "      <td>40.250000</td>\n",
       "      <td>4.526000</td>\n",
       "      <td>0.037268</td>\n",
       "      <td>0.545808</td>\n",
       "      <td>0.856823</td>\n",
       "      <td>0.439185</td>\n",
       "      <td>0.328330</td>\n",
       "      <td>0.061675</td>\n",
       "      <td>0.150553</td>\n",
       "      <td>1.759410</td>\n",
       "    </tr>\n",
       "    <tr>\n",
       "      <th>50%</th>\n",
       "      <td>79.500000</td>\n",
       "      <td>5.232500</td>\n",
       "      <td>0.043940</td>\n",
       "      <td>0.910245</td>\n",
       "      <td>1.029510</td>\n",
       "      <td>0.696705</td>\n",
       "      <td>0.435515</td>\n",
       "      <td>0.107220</td>\n",
       "      <td>0.216130</td>\n",
       "      <td>2.095415</td>\n",
       "    </tr>\n",
       "    <tr>\n",
       "      <th>75%</th>\n",
       "      <td>118.750000</td>\n",
       "      <td>6.243750</td>\n",
       "      <td>0.052300</td>\n",
       "      <td>1.158448</td>\n",
       "      <td>1.214405</td>\n",
       "      <td>0.811013</td>\n",
       "      <td>0.549092</td>\n",
       "      <td>0.180255</td>\n",
       "      <td>0.309883</td>\n",
       "      <td>2.462415</td>\n",
       "    </tr>\n",
       "    <tr>\n",
       "      <th>max</th>\n",
       "      <td>158.000000</td>\n",
       "      <td>7.587000</td>\n",
       "      <td>0.136930</td>\n",
       "      <td>1.690420</td>\n",
       "      <td>1.402230</td>\n",
       "      <td>1.025250</td>\n",
       "      <td>0.669730</td>\n",
       "      <td>0.551910</td>\n",
       "      <td>0.795880</td>\n",
       "      <td>3.602140</td>\n",
       "    </tr>\n",
       "  </tbody>\n",
       "</table>\n",
       "</div>"
      ],
      "text/plain": [
       "       Happiness Rank  Happiness Score  Standard Error  \\\n",
       "count      158.000000       158.000000      158.000000   \n",
       "mean        79.493671         5.375734        0.047885   \n",
       "std         45.754363         1.145010        0.017146   \n",
       "min          1.000000         2.839000        0.018480   \n",
       "25%         40.250000         4.526000        0.037268   \n",
       "50%         79.500000         5.232500        0.043940   \n",
       "75%        118.750000         6.243750        0.052300   \n",
       "max        158.000000         7.587000        0.136930   \n",
       "\n",
       "       Economy (GDP per Capita)      Family  Health (Life Expectancy)  \\\n",
       "count                158.000000  158.000000                158.000000   \n",
       "mean                   0.846137    0.991046                  0.630259   \n",
       "std                    0.403121    0.272369                  0.247078   \n",
       "min                    0.000000    0.000000                  0.000000   \n",
       "25%                    0.545808    0.856823                  0.439185   \n",
       "50%                    0.910245    1.029510                  0.696705   \n",
       "75%                    1.158448    1.214405                  0.811013   \n",
       "max                    1.690420    1.402230                  1.025250   \n",
       "\n",
       "          Freedom  Trust (Government Corruption)  Generosity  \\\n",
       "count  158.000000                     158.000000  158.000000   \n",
       "mean     0.428615                       0.143422    0.237296   \n",
       "std      0.150693                       0.120034    0.126685   \n",
       "min      0.000000                       0.000000    0.000000   \n",
       "25%      0.328330                       0.061675    0.150553   \n",
       "50%      0.435515                       0.107220    0.216130   \n",
       "75%      0.549092                       0.180255    0.309883   \n",
       "max      0.669730                       0.551910    0.795880   \n",
       "\n",
       "       Dystopia Residual  \n",
       "count         158.000000  \n",
       "mean            2.098977  \n",
       "std             0.553550  \n",
       "min             0.328580  \n",
       "25%             1.759410  \n",
       "50%             2.095415  \n",
       "75%             2.462415  \n",
       "max             3.602140  "
      ]
     },
     "execution_count": 149,
     "metadata": {},
     "output_type": "execute_result"
    }
   ],
   "source": [
    "df.describe()"
   ]
  },
  {
   "cell_type": "code",
   "execution_count": 150,
   "id": "bb719313",
   "metadata": {},
   "outputs": [
    {
     "data": {
      "image/png": "[encoded data removed]",
      "text/plain": [
       "<Figure size 1080x864 with 2 Axes>"
      ]
     },
     "metadata": {
      "needs_background": "light"
     },
     "output_type": "display_data"
    }
   ],
   "source": [
    "plt.figure(figsize=(15,12))\n",
    "sns.heatmap(round(df.describe()[1:].transpose(),2),linewidth=2,annot=True,fmt=\"f\")\n",
    "plt.xticks(fontsize=18)\n",
    "plt.yticks(fontsize=12)\n",
    "plt.title(\"variable summary\")\n",
    "plt.show()"
   ]
  },
  {
   "cell_type": "code",
   "execution_count": 152,
   "id": "81950be1",
   "metadata": {},
   "outputs": [
    {
     "name": "stdout",
     "output_type": "stream",
     "text": [
      "<class 'pandas.core.frame.DataFrame'>\n",
      "RangeIndex: 158 entries, 0 to 157\n",
      "Data columns (total 12 columns):\n",
      " #   Column                         Non-Null Count  Dtype  \n",
      "---  ------                         --------------  -----  \n",
      " 0   Country                        158 non-null    object \n",
      " 1   Region                         158 non-null    object \n",
      " 2   Happiness Rank                 158 non-null    int64  \n",
      " 3   Happiness Score                158 non-null    float64\n",
      " 4   Standard Error                 158 non-null    float64\n",
      " 5   Economy (GDP per Capita)       158 non-null    float64\n",
      " 6   Family                         158 non-null    float64\n",
      " 7   Health (Life Expectancy)       158 non-null    float64\n",
      " 8   Freedom                        158 non-null    float64\n",
      " 9   Trust (Government Corruption)  158 non-null    float64\n",
      " 10  Generosity                     158 non-null    float64\n",
      " 11  Dystopia Residual              158 non-null    float64\n",
      "dtypes: float64(9), int64(1), object(2)\n",
      "memory usage: 13.6+ KB\n"
     ]
    }
   ],
   "source": [
    "df.info()"
   ]
  },
  {
   "cell_type": "markdown",
   "id": "c2f27f20",
   "metadata": {},
   "source": [
    "Outliers Checking:"
   ]
  },
  {
   "cell_type": "code",
   "execution_count": 153,
   "id": "a19eb522",
   "metadata": {},
   "outputs": [],
   "source": [
    "import warnings\n",
    "warnings.filterwarnings('ignore')"
   ]
  },
  {
   "cell_type": "code",
   "execution_count": 158,
   "id": "91e16478",
   "metadata": {},
   "outputs": [
    {
     "ename": "SyntaxError",
     "evalue": "invalid syntax (Temp/ipykernel_8732/3796166477.py, line 7)",
     "output_type": "error",
     "traceback": [
      "\u001b[1;36m  File \u001b[1;32m\"C:\\Users\\MDSHAF~1\\AppData\\Local\\Temp/ipykernel_8732/3796166477.py\"\u001b[1;36m, line \u001b[1;32m7\u001b[0m\n\u001b[1;33m    seaborn.boxplot(df[collist[i]orient=\"h\",x='happiness',y='Dystopia Residual'):\u001b[0m\n\u001b[1;37m                                 ^\u001b[0m\n\u001b[1;31mSyntaxError\u001b[0m\u001b[1;31m:\u001b[0m invalid syntax\n"
     ]
    }
   ],
   "source": [
    "collist=df.columns.values\n",
    "ncol=30\n",
    "nrows=14\n",
    "plt.figure(figsize=(ncol,3*ncol))\n",
    "for i in range (0, len(collist)):\n",
    "    plt.subplot(nrows,ncol,i+1)\n",
    "    seaborn.boxplot(df[collist[i]orient=\"h\",x='happiness',y='Dystopia Residual'):\n",
    "    seaborn.set(style=\"green\")\n",
    "    loading data-set                   \n",
    "    plt.tight_layout()"
   ]
  },
  {
   "cell_type": "code",
   "execution_count": null,
   "id": "dad12de9",
   "metadata": {},
   "outputs": [],
   "source": [
    "df.skew()"
   ]
  },
  {
   "cell_type": "code",
   "execution_count": null,
   "id": "1b974548",
   "metadata": {},
   "outputs": [],
   "source": [
    "sns.displot(df[\"Happiness Rank\"])"
   ]
  },
  {
   "cell_type": "code",
   "execution_count": null,
   "id": "5bf97a26",
   "metadata": {},
   "outputs": [],
   "source": [
    "sns.displot(df[\"Country\"])"
   ]
  },
  {
   "cell_type": "code",
   "execution_count": null,
   "id": "c788c3b5",
   "metadata": {},
   "outputs": [],
   "source": [
    "sns.displot(df[\"Region\"])"
   ]
  },
  {
   "cell_type": "code",
   "execution_count": null,
   "id": "a33b1c8d",
   "metadata": {},
   "outputs": [],
   "source": [
    "sns.displot(df[\"Happiness Score\"])"
   ]
  },
  {
   "cell_type": "code",
   "execution_count": null,
   "id": "41e4a20a",
   "metadata": {},
   "outputs": [],
   "source": [
    "sns.displot(df[\"Standard Error\"])"
   ]
  },
  {
   "cell_type": "code",
   "execution_count": null,
   "id": "61964436",
   "metadata": {},
   "outputs": [],
   "source": [
    "sns.displot(df[\"Family\"])"
   ]
  },
  {
   "cell_type": "code",
   "execution_count": null,
   "id": "cc15fe9e",
   "metadata": {},
   "outputs": [],
   "source": [
    "sns.displot(df[\"Freedom\"])"
   ]
  },
  {
   "cell_type": "code",
   "execution_count": null,
   "id": "9e64fe30",
   "metadata": {},
   "outputs": [],
   "source": [
    "sns.displot(df[\"Generosity\"])"
   ]
  },
  {
   "cell_type": "code",
   "execution_count": null,
   "id": "ffa55116",
   "metadata": {},
   "outputs": [],
   "source": [
    "df.corr()['Dystopia Residual']"
   ]
  },
  {
   "cell_type": "code",
   "execution_count": null,
   "id": "f14dd877",
   "metadata": {},
   "outputs": [],
   "source": [
    "delete=pd.DataFrame([[\"0.083981\",\"Standard Error\",\"No\",\"Alot\"],[\"0.101301\",\"Generosity\",\"No\",\"Alot\"]],columns=[\"Correlation with Target\",\"Column Name\",\"Normalised\",\"Outliers\"])\n",
    "delete"
   ]
  },
  {
   "cell_type": "code",
   "execution_count": null,
   "id": "1ef4b3fa",
   "metadata": {},
   "outputs": [],
   "source": [
    "df=df.drop([\"Standard Error\",\"Generosity\"],axis=1)"
   ]
  },
  {
   "cell_type": "code",
   "execution_count": null,
   "id": "bb257a07",
   "metadata": {},
   "outputs": [],
   "source": [
    "df"
   ]
  },
  {
   "cell_type": "markdown",
   "id": "7ecb4416",
   "metadata": {},
   "source": [
    "z-score Technique:"
   ]
  },
  {
   "cell_type": "code",
   "execution_count": null,
   "id": "95442827",
   "metadata": {},
   "outputs": [],
   "source": [
    "from scipy.stats import zscore\n",
    "import numpy as np\n",
    "z=np.abs(Zscore(df))\n",
    "z.Shape"
   ]
  },
  {
   "cell_type": "code",
   "execution_count": null,
   "id": "52180901",
   "metadata": {},
   "outputs": [],
   "source": [
    "threshold=3 #rule of thumb\n",
    "#index number\n",
    "print(np.where(Z>3))"
   ]
  },
  {
   "cell_type": "code",
   "execution_count": null,
   "id": "62f1b3db",
   "metadata": {},
   "outputs": [],
   "source": [
    "len(np.where(z>3)[0])"
   ]
  },
  {
   "cell_type": "code",
   "execution_count": null,
   "id": "eaa976fe",
   "metadata": {},
   "outputs": [],
   "source": [
    "z.iloc[4]"
   ]
  },
  {
   "cell_type": "code",
   "execution_count": null,
   "id": "c214412a",
   "metadata": {},
   "outputs": [],
   "source": [
    "df_new=df[(z<3).all(axis=1)]\n",
    "print(\"OLd Dataframe\",df.shape)\n",
    "print(\"New Dataframe\",df_new.shape)\n",
    "print(\"total_dropped_rows\",dfshape)\n",
    "print(\"total_dropped_rows\",df.shape[0]  - df_new.shape[0])"
   ]
  }
 ],
 "metadata": {
  "kernelspec": {
   "display_name": "Python 3 (ipykernel)",
   "language": "python",
   "name": "python3"
  },
  "language_info": {
   "codemirror_mode": {
    "name": "ipython",
    "version": 3
   },
   "file_extension": ".py",
   "mimetype": "text/x-python",
   "name": "python",
   "nbconvert_exporter": "python",
   "pygments_lexer": "ipython3",
   "version": "3.9.7"
  }
 },
 "nbformat": 4,
 "nbformat_minor": 5
}
